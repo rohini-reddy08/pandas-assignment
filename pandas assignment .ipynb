{
 "cells": [
  {
   "cell_type": "code",
   "execution_count": 1,
   "id": "760ece20",
   "metadata": {},
   "outputs": [],
   "source": [
    "import pandas as pd"
   ]
  },
  {
   "cell_type": "markdown",
   "id": "1680c49f",
   "metadata": {},
   "source": [
    "1. Load the dataset into a pandas DataFrame"
   ]
  },
  {
   "cell_type": "code",
   "execution_count": 7,
   "id": "02735e1d",
   "metadata": {},
   "outputs": [],
   "source": [
    "df = pd.read_csv(r\"C:\\Users\\rohini\\Downloads\\sales_data.csv\")"
   ]
  },
  {
   "cell_type": "markdown",
   "id": "72a7a6c5",
   "metadata": {},
   "source": [
    "2. Display the first 4 rows of the DataFrame"
   ]
  },
  {
   "cell_type": "code",
   "execution_count": 10,
   "id": "2133306e",
   "metadata": {},
   "outputs": [
    {
     "name": "stdout",
     "output_type": "stream",
     "text": [
      "First 4 rows of the dataset:\n",
      "   Order ID                     Product  Quantity Ordered  Price Each  \\\n",
      "0    176558        USB-C Charging Cable                 2       11.95   \n",
      "1    176559  Bose SoundSport Headphones                 1       99.99   \n",
      "2    176560                Google Phone                 1      600.00   \n",
      "3    176561            Wired Headphones                 3       11.99   \n",
      "4    176562    Lightning Charging Cable                 1       14.95   \n",
      "\n",
      "  Order Date         City  \n",
      "0  1/22/2023     New York  \n",
      "1  1/23/2023  Los Angeles  \n",
      "2  1/23/2023      Chicago  \n",
      "3  1/24/2023      Houston  \n",
      "4  1/24/2023     New York  \n"
     ]
    }
   ],
   "source": [
    "print(\"First 4 rows of the dataset:\")\n",
    "print(df.head())\n"
   ]
  },
  {
   "cell_type": "markdown",
   "id": "674e81eb",
   "metadata": {},
   "source": [
    "3. Check for any missing values in the dataset"
   ]
  },
  {
   "cell_type": "code",
   "execution_count": 9,
   "id": "84a83daf",
   "metadata": {},
   "outputs": [
    {
     "name": "stdout",
     "output_type": "stream",
     "text": [
      "\n",
      "Missing values in the dataset:\n",
      "Order ID            0\n",
      "Product             0\n",
      "Quantity Ordered    0\n",
      "Price Each          0\n",
      "Order Date          0\n",
      "City                0\n",
      "dtype: int64\n"
     ]
    }
   ],
   "source": [
    "print(\"\\nMissing values in the dataset:\")\n",
    "print(df.isnull().sum())"
   ]
  },
  {
   "cell_type": "markdown",
   "id": "dc43c977",
   "metadata": {},
   "source": [
    "4. Add a new column Total Sales that multiplies Quantity Ordered by Price Each"
   ]
  },
  {
   "cell_type": "code",
   "execution_count": 11,
   "id": "5833ca33",
   "metadata": {},
   "outputs": [],
   "source": [
    "df['Total Sales'] = df['Quantity Ordered'] * df['Price Each']"
   ]
  },
  {
   "cell_type": "markdown",
   "id": "2e4d5d19",
   "metadata": {},
   "source": [
    "5. Find the total sales for each city and display it as a new DataFrame"
   ]
  },
  {
   "cell_type": "code",
   "execution_count": 12,
   "id": "ae82dae3",
   "metadata": {},
   "outputs": [
    {
     "name": "stdout",
     "output_type": "stream",
     "text": [
      "\n",
      "Total sales for each city:\n",
      "            City  Total Sales (City)\n",
      "0        Chicago             1800.00\n",
      "1        Houston              835.97\n",
      "2    Los Angeles              115.35\n",
      "3       New York               38.85\n",
      "4  San Francisco             1000.00\n"
     ]
    }
   ],
   "source": [
    "city_sales = df.groupby('City')['Total Sales'].sum().reset_index()\n",
    "city_sales = city_sales.rename(columns={'Total Sales': 'Total Sales (City)'})\n",
    "print(\"\\nTotal sales for each city:\")\n",
    "print(city_sales)"
   ]
  },
  {
   "cell_type": "markdown",
   "id": "b94216bb",
   "metadata": {},
   "source": [
    "6. Identify the product with the highest total sales"
   ]
  },
  {
   "cell_type": "code",
   "execution_count": 13,
   "id": "3b27e7d7",
   "metadata": {},
   "outputs": [
    {
     "name": "stdout",
     "output_type": "stream",
     "text": [
      "\n",
      "Product with the highest total sales:\n",
      "ThinkPad Laptop\n"
     ]
    }
   ],
   "source": [
    "product_sales = df.groupby('Product')['Total Sales'].sum()\n",
    "highest_selling_product = product_sales.idxmax()\n",
    "print(\"\\nProduct with the highest total sales:\")\n",
    "print(highest_selling_product)"
   ]
  },
  {
   "cell_type": "code",
   "execution_count": null,
   "id": "40bb38f1",
   "metadata": {},
   "outputs": [],
   "source": []
  }
 ],
 "metadata": {
  "kernelspec": {
   "display_name": "Python 3 (ipykernel)",
   "language": "python",
   "name": "python3"
  },
  "language_info": {
   "codemirror_mode": {
    "name": "ipython",
    "version": 3
   },
   "file_extension": ".py",
   "mimetype": "text/x-python",
   "name": "python",
   "nbconvert_exporter": "python",
   "pygments_lexer": "ipython3",
   "version": "3.9.13"
  }
 },
 "nbformat": 4,
 "nbformat_minor": 5
}
